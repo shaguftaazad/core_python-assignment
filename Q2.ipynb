{
  "nbformat": 4,
  "nbformat_minor": 0,
  "metadata": {
    "colab": {
      "name": "Q2.ipynb",
      "provenance": []
    },
    "kernelspec": {
      "name": "python3",
      "display_name": "Python 3"
    },
    "language_info": {
      "name": "python"
    }
  },
  "cells": [
    {
      "cell_type": "code",
      "metadata": {
        "id": "XeYVMAjczFb0"
      },
      "source": [
        "# Q 2. Write a Python program to accept the user's first and last name and then getting them\n",
        "# printed in the the reverse order with a space between first name and last name."
      ],
      "execution_count": null,
      "outputs": []
    },
    {
      "cell_type": "code",
      "metadata": {
        "colab": {
          "base_uri": "https://localhost:8080/"
        },
        "id": "4bIcqa0BzUvr",
        "outputId": "60d84dbe-eb5e-48d0-af89-996a4ee7a507"
      },
      "source": [
        "first= input(\"First Name:\") \n",
        "last = input(\"Last Name:\")\n",
        "print( last, '', first)"
      ],
      "execution_count": 8,
      "outputs": [
        {
          "output_type": "stream",
          "text": [
            "First Name:Shagufta\n",
            "Last Name:Azad\n",
            "Azad  Shagufta\n"
          ],
          "name": "stdout"
        }
      ]
    }
  ]
}