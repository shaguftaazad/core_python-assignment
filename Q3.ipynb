{
  "nbformat": 4,
  "nbformat_minor": 0,
  "metadata": {
    "colab": {
      "name": "Q3.ipynb",
      "provenance": []
    },
    "kernelspec": {
      "name": "python3",
      "display_name": "Python 3"
    },
    "language_info": {
      "name": "python"
    }
  },
  "cells": [
    {
      "cell_type": "code",
      "metadata": {
        "id": "XeYVMAjczFb0"
      },
      "source": [
        "# Q 3. Write a Python program to find the volume of a sphere with diameter 12 cm.\n",
        "# Formula: V=4/3 * π * r 3"
      ],
      "execution_count": null,
      "outputs": []
    },
    {
      "cell_type": "code",
      "metadata": {
        "colab": {
          "base_uri": "https://localhost:8080/"
        },
        "id": "4bIcqa0BzUvr",
        "outputId": "44bd7285-3bfb-4eb7-fa74-1d7ce51f0a2a"
      },
      "source": [
        "diameter = 12\n",
        "r = diameter/2\n",
        "vol_sphere = 4/3 * 3.14 * r**3\n",
        "print(\"The volume of sphere whose diameter is 12 cm is: \", vol_sphere)"
      ],
      "execution_count": 12,
      "outputs": [
        {
          "output_type": "stream",
          "text": [
            "The volume of sphere whose diameter is 12 cm is:  904.3199999999999\n"
          ],
          "name": "stdout"
        }
      ]
    }
  ]
}